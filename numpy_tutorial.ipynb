{
 "cells": [
  {
   "cell_type": "code",
   "execution_count": 1,
   "metadata": {},
   "outputs": [],
   "source": [
    "# import numpy package\n",
    "import numpy as np"
   ]
  },
  {
   "cell_type": "code",
   "execution_count": 2,
   "metadata": {},
   "outputs": [
    {
     "name": "stdout",
     "output_type": "stream",
     "text": [
      "[[ 1.64537945  2.45372374  0.18036015 -0.42195895]\n",
      " [-0.87510784 -0.72371626  0.85067298 -0.56412277]]\n",
      "[[0.10705993 0.51225556 0.5923479  0.71160963]\n",
      " [0.30130823 0.33753395 0.45099584 0.61695974]]\n"
     ]
    }
   ],
   "source": [
    "# np.random\n",
    "# random in standard normal distribution\n",
    "arr1 = np.random.randn(2,4)\n",
    "print(arr1)\n",
    "\n",
    "# random in (0, 1)\n",
    "arr2 = np.random.rand(2,4)\n",
    "print(arr2)"
   ]
  },
  {
   "cell_type": "code",
   "execution_count": 57,
   "metadata": {},
   "outputs": [
    {
     "name": "stdout",
     "output_type": "stream",
     "text": [
      "[1 2 3 4 5]\n",
      "[1 5 3 4 2]\n"
     ]
    }
   ],
   "source": [
    "# np.shuffle\n",
    "arr = np.array([1,2,3,4,5])\n",
    "print(arr)\n",
    "np.random.shuffle(arr)\n",
    "print(arr)"
   ]
  },
  {
   "cell_type": "code",
   "execution_count": 20,
   "metadata": {},
   "outputs": [
    {
     "name": "stdout",
     "output_type": "stream",
     "text": [
      "[[0.10705993 0.51225556 0.5923479  0.71160963]\n",
      " [0.30130823 0.33753395 0.45099584 0.61695974]]\n",
      "(2, 4)\n",
      "[[0.]\n",
      " [0.]\n",
      " [0.]]\n",
      "(3, 1)\n",
      "[[1.]\n",
      " [1.]\n",
      " [1.]]\n",
      "(3, 1)\n",
      "[[1. 1.]\n",
      " [1. 1.]\n",
      " [1. 1.]]\n",
      "(3, 2)\n"
     ]
    }
   ],
   "source": [
    "# np.empty\n",
    "# unlike zeros, does not set the array values to zero, and may therefore be marginally faster.\n",
    "empty = np.empty([2,4])\n",
    "print(empty) #random\n",
    "print(empty.shape)\n",
    "\n",
    "# np.zeros\n",
    "zeros = np.zeros((3, 1))\n",
    "print(zeros)\n",
    "print(zeros.shape)\n",
    "\n",
    "# np.ones\n",
    "ones_1 = np.ones((3, 1))\n",
    "print(ones_1)\n",
    "print(ones_1.shape)\n",
    "\n",
    "ones_2 = np.ones((3, 2))\n",
    "print(ones_2)\n",
    "print(ones_2.shape)"
   ]
  },
  {
   "cell_type": "code",
   "execution_count": 30,
   "metadata": {},
   "outputs": [
    {
     "name": "stdout",
     "output_type": "stream",
     "text": [
      "[ 1  2  3 11 22 33 44 55 66]\n",
      "[[1 2 3]\n",
      " [4 5 6]\n",
      " [7 8 9]\n",
      " [9 8 7]]\n",
      "[[1 2 3 7 8 9]\n",
      " [4 5 6 9 8 7]]\n"
     ]
    }
   ],
   "source": [
    "# np.concatenate\n",
    "# numpy.concatenate((a1,a2,...), axis=0), a1, a2, ...\n",
    "a = np.array([1,2,3])\n",
    "b = np.array([11,22,33])\n",
    "c = np.array([44,55,66])\n",
    "print(np.concatenate((a,b,c)))\n",
    "\n",
    "d = np.array([[1,2,3], [4,5,6]])\n",
    "e = np.array([[7,8,9], [9,8,7]])\n",
    "print(np.concatenate((d, e), axis=0)) # 表示對應列的數组進行拼接\n",
    "print(np.concatenate((d, e), axis=1)) # 表示對應行的數组進行拼接"
   ]
  },
  {
   "cell_type": "code",
   "execution_count": 37,
   "metadata": {},
   "outputs": [
    {
     "name": "stdout",
     "output_type": "stream",
     "text": [
      "(2, 3)\n",
      "(3, 2)\n",
      "[[0 7]\n",
      " [2 4]]\n"
     ]
    }
   ],
   "source": [
    "# dot\n",
    "a = np.array([[1,0,2], [0,1,1]]) \n",
    "b = np.array([[0,2,0], [1,1,3]]).T\n",
    "print(a.shape)\n",
    "print(b.shape)\n",
    "\n",
    "# c=a*b\n",
    "c = a.dot(b)\n",
    "print(c)"
   ]
  }
 ],
 "metadata": {
  "kernelspec": {
   "display_name": "Python 3",
   "language": "python",
   "name": "python3"
  },
  "language_info": {
   "codemirror_mode": {
    "name": "ipython",
    "version": 3
   },
   "file_extension": ".py",
   "mimetype": "text/x-python",
   "name": "python",
   "nbconvert_exporter": "python",
   "pygments_lexer": "ipython3",
   "version": "3.5.2"
  }
 },
 "nbformat": 4,
 "nbformat_minor": 2
}
