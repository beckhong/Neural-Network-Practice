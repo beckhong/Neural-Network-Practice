{
 "cells": [
  {
   "cell_type": "markdown",
   "metadata": {},
   "source": [
    "### Run tensorflow structure"
   ]
  },
  {
   "cell_type": "code",
   "execution_count": null,
   "metadata": {},
   "outputs": [],
   "source": [
    "# https://hackmd.io/s/HJxsUvOpg\n",
    "# initialize\n",
    "import tensorflow as tf\n",
    "import numpy as np\n",
    "\n",
    "x = np.random.rand(100).astype(np.float32)\n",
    "y = x*0.5 + 0.9\n",
    "\n",
    "# build tensorflow structure\n",
    "Weights = tf.Variable(tf.random_uniform([1], -1.0, 1.0))\n",
    "biases = tf.Variable(tf.zeros([1]))\n",
    "Y = Weights*x + biases \n",
    "\n",
    "# mean square error\n",
    "loss = tf.reduce_mean(tf.square(Y-y))\n",
    "\n",
    "# Proporgation\n",
    "optimizer = tf.train.GradientDescentOptimizer(0.5)\n",
    "train = optimizer.minimize(loss)\n",
    "\n",
    "# Training\n",
    "init = tf.global_variables_initializer()"
   ]
  },
  {
   "cell_type": "code",
   "execution_count": null,
   "metadata": {},
   "outputs": [],
   "source": [
    "# method 1\n",
    "sess = tf.Session()\n",
    "sess.run(init)\n",
    "for step in range(200):\n",
    "    sess.run(train)\n",
    "    if step % 10:\n",
    "        print(step, sess.run(Weights), sess.run(biases),sess.run(loss))\n",
    "sess.close()"
   ]
  },
  {
   "cell_type": "code",
   "execution_count": null,
   "metadata": {},
   "outputs": [],
   "source": [
    "# method 2\n",
    "with tf.Session() as sess:\n",
    "    sess.run(init)\n",
    "    for step in range(200):\n",
    "        sess.run(train)\n",
    "        if step % 10:\n",
    "            print(step, sess.run(Weights), sess.run(biases),sess.run(loss))"
   ]
  },
  {
   "cell_type": "markdown",
   "metadata": {},
   "source": [
    "###  tf.Variable, tf.assign, and tf.global_variables_initializer"
   ]
  },
  {
   "cell_type": "code",
   "execution_count": null,
   "metadata": {},
   "outputs": [],
   "source": [
    "# Variable\n",
    "import tensorflow as tf\n",
    "\n",
    "state = tf.Variable(0, name='counter')\n",
    "\n",
    "# define variable one\n",
    "one = tf.constant(1)\n",
    "new_value = tf.add(state, one)\n",
    "\n",
    "# update state to new variable\n",
    "# tf.assign: state=new_value\n",
    "update = tf.assign(state, new_value)\n",
    "\n",
    "# initialize\n",
    "init = tf.global_variables_initializer()"
   ]
  },
  {
   "cell_type": "code",
   "execution_count": null,
   "metadata": {},
   "outputs": [],
   "source": [
    "with tf.Session() as sess:\n",
    "    sess.run(init)\n",
    "    for i in range(10):\n",
    "        print('new_value:', sess.run(new_value))\n",
    "        sess.run(update)\n",
    "        print('state:', sess.run(state))\n",
    "        "
   ]
  },
  {
   "cell_type": "code",
   "execution_count": null,
   "metadata": {},
   "outputs": [],
   "source": [
    "# 利用 Fetch 方式來一次取得多個節點的 Tensor\n",
    "with tf.Session() as sess:\n",
    "    sess.run(init)\n",
    "    for i in range(10):\n",
    "        print('Update before:', sess.run([new_value, state]))\n",
    "        sess.run(update)\n",
    "        print('Update after:', sess.run([new_value, state]))"
   ]
  },
  {
   "cell_type": "markdown",
   "metadata": {},
   "source": [
    "### tf.placeholder"
   ]
  },
  {
   "cell_type": "code",
   "execution_count": null,
   "metadata": {},
   "outputs": [],
   "source": [
    "# placeholder(替換 Tensor 內容)\n",
    "import tensorflow as tf\n",
    "\n",
    "var1, var2 = tf.placeholder(tf.float32), tf.placeholder(tf.float32)\n",
    "output = tf.multiply(var1, var2)"
   ]
  },
  {
   "cell_type": "code",
   "execution_count": null,
   "metadata": {},
   "outputs": [],
   "source": [
    "with tf.Session() as sess:\n",
    "    print(sess.run(output, feed_dict={var1: 10, var2: 12}))"
   ]
  },
  {
   "cell_type": "markdown",
   "metadata": {},
   "source": [
    "### Linear fitting with tensorflow"
   ]
  },
  {
   "cell_type": "code",
   "execution_count": null,
   "metadata": {},
   "outputs": [],
   "source": [
    "%%capture\n",
    "%matplotlib inline\n",
    "import matplotlib.pyplot as plt\n",
    "from matplotlib import animation\n",
    "plt.rcParams[\"animation.html\"] = \"jshtml\"\n",
    "import numpy as np\n",
    "import tensorflow as tf\n",
    "\n",
    "# define layer\n",
    "def add_layer(inputs, in_size, out_size, activation_fun = None):\n",
    "    Weights = tf.Variable(tf.random_normal([in_size, out_size]))\n",
    "    biases = tf.Variable(tf.zeros([1, out_size]))\n",
    "    # tf.matmul: 两个矩阵相乘\n",
    "    Wx_plus_b = tf.matmul(inputs, Weights) + biases\n",
    "    if activation_fun is None:\n",
    "        output = Wx_plus_b\n",
    "    else:\n",
    "        output = activation_fun(Wx_plus_b)\n",
    "    return output\n",
    "\n",
    "# import data\n",
    "x_data = np.linspace(-1, 1, 300, dtype=np.float32)[:, np.newaxis]\n",
    "noise = np.random.normal(0, 0.05, x_data.shape).astype(np.float32)\n",
    "y_data = np.square(x_data) - 0.5 + noise\n",
    "\n",
    "# placeholder\n",
    "xs = tf.placeholder(tf.float32, [None, 1])\n",
    "ys = tf.placeholder(tf.float32, [None, 1])"
   ]
  },
  {
   "cell_type": "code",
   "execution_count": null,
   "metadata": {},
   "outputs": [],
   "source": [
    "# building network visualization\n",
    "l1 = add_layer(xs, 1, 10, activation_fun = tf.nn.relu)\n",
    "prediction = add_layer(l1, 10, 1, activation_fun = None)\n",
    "\n",
    "# define loss function\n",
    "loss = tf.reduce_mean(tf.reduce_sum(tf.square(ys-prediction), reduction_indices=[1]))\n",
    "\n",
    "# optimization\n",
    "train_step = tf.train.GradientDescentOptimizer(0.1).minimize(loss)\n",
    "\n",
    "init = tf.global_variables_initializer()"
   ]
  },
  {
   "cell_type": "code",
   "execution_count": null,
   "metadata": {},
   "outputs": [],
   "source": [
    "# training\n",
    "predicts = []\n",
    "with tf.Session() as sess:\n",
    "    sess.run(init)\n",
    "    \n",
    "    for i in range(500):\n",
    "        sess.run(train_step, feed_dict={xs: x_data, ys: y_data})\n",
    "\n",
    "        if i % 10 == 0:\n",
    "            prediction_value = \\\n",
    "                sess.run(prediction, feed_dict={xs: x_data})\n",
    "            predicts.append(prediction_value)"
   ]
  },
  {
   "cell_type": "code",
   "execution_count": null,
   "metadata": {},
   "outputs": [],
   "source": [
    "# plot\n",
    "fig = plt.figure()\n",
    "ax = fig.add_subplot(1,1,1)\n",
    "\n",
    "def animate(i, predicts, x_data, y_data):\n",
    "    predict = predicts[i]\n",
    "    ax.clear()\n",
    "    ax.scatter(x_data, y_data)\n",
    "    ax.plot(x_data, predict, 'r-', lw=5)\n",
    "    ax.set_xlim(min(x_data)-0.5, max(x_data)+0.5)\n",
    "    ax.set_ylim(min(y_data)-0.5, max(y_data)+0.5)\n",
    "\n",
    "ani = animation.FuncAnimation(fig, animate, frames=len(predicts), fargs=(predicts, x_data, y_data,))\n",
    "ani"
   ]
  },
  {
   "cell_type": "markdown",
   "metadata": {},
   "source": [
    "### tf.reduce_sum"
   ]
  },
  {
   "cell_type": "code",
   "execution_count": null,
   "metadata": {},
   "outputs": [],
   "source": [
    "'''tf.reduce_sum:\n",
    "'x' is [[1, 2, 3]\n",
    "\n",
    "        [4, 5, 6]]\n",
    "\n",
    "* sum\n",
    "tf.reduce_sum(x) ==> 21\n",
    "\n",
    "* sum by rows\n",
    "tf.reduce_sum(x, 0) ==> [5, 7, 9]\n",
    "\n",
    "* sun by columns\n",
    "tf.reduce_sum(x, 1) ==> [6, 15]\n",
    "\n",
    "* 按照行的维度求和\n",
    "tf.reduce_sum(x, 1, keep_dims=True) ==> [[6], [15]]\n",
    "\n",
    "* 行列求和\n",
    "tf.reduce_sum(x, [0, 1]) ==> 21\n",
    "'''\n",
    "\n",
    "x = np.array([[1,2,3], [4,5,6]])\n",
    "a1 = tf.reduce_sum(x)\n",
    "a2 = tf.reduce_sum(x, reduction_indices=[0])\n",
    "a3 = tf.reduce_sum(x, reduction_indices=[1])\n",
    "a4 = tf.reduce_sum(x, reduction_indices=[1], keep_dims=True)\n",
    "a5 = tf.reduce_sum(x, reduction_indices=[1, 0])\n",
    "\n",
    "with tf.Session() as sess:\n",
    "    res = sess.run([a1, a2, a3, a4, a5])\n",
    "\n",
    "for i in range(5):\n",
    "    print('a'+str(i+1)+':', res[i])"
   ]
  },
  {
   "cell_type": "markdown",
   "metadata": {},
   "source": [
    "### Activation function"
   ]
  },
  {
   "cell_type": "code",
   "execution_count": 25,
   "metadata": {},
   "outputs": [],
   "source": [
    "# https://github.com/beckhong/Tensorflow-Tutorial/blob/master/tutorial-contents/204_activation.py\n",
    "import numpy as np\n",
    "import matplotlib.pyplot as plt\n",
    "import tensorflow as tf\n",
    "from tensorflow.nn import relu, sigmoid, tanh, softplus\n",
    "\n",
    "def activation_plot(x, y, label, ylim):\n",
    "    plt.figure(1, figsize=(4, 3))\n",
    "    plt.plot(x, y, c='red', label=label)\n",
    "    plt.ylim(ylim)\n",
    "    plt.legend(loc='best')\n",
    "    plt.show()"
   ]
  },
  {
   "cell_type": "code",
   "execution_count": 17,
   "metadata": {},
   "outputs": [],
   "source": [
    "x = np.linspace(-5, 5, 200)     # x data, shape=(100, 1)\n",
    "\n",
    "# following are popular activation functions\n",
    "y_relu = relu(x)\n",
    "y_sigmoid = sigmoid(x)\n",
    "y_tanh = tanh(x)\n",
    "y_softplus =softplus(x)\n",
    "\n",
    "sess = tf.Session()\n",
    "y_relu, y_sigmoid, y_tanh, y_softplus = sess.run([y_relu, y_sigmoid, y_tanh, y_softplus])"
   ]
  },
  {
   "cell_type": "code",
   "execution_count": 27,
   "metadata": {},
   "outputs": [
    {
     "data": {
      "image/png": "[encoded data removed]",
      "text/plain": [
       "<Figure size 288x216 with 1 Axes>"
      ]
     },
     "metadata": {
      "needs_background": "light"
     },
     "output_type": "display_data"
    },
    {
     "data": {
      "image/png": "[encoded data removed]",
      "text/plain": [
       "<Figure size 288x216 with 1 Axes>"
      ]
     },
     "metadata": {
      "needs_background": "light"
     },
     "output_type": "display_data"
    },
    {
     "data": {
      "image/png": "[encoded data removed]",
      "text/plain": [
       "<Figure size 288x216 with 1 Axes>"
      ]
     },
     "metadata": {
      "needs_background": "light"
     },
     "output_type": "display_data"
    },
    {
     "data": {
      "image/png": "[encoded data removed]",
      "text/plain": [
       "<Figure size 288x216 with 1 Axes>"
      ]
     },
     "metadata": {
      "needs_background": "light"
     },
     "output_type": "display_data"
    }
   ],
   "source": [
    "# plt to visualize these activation function\n",
    "activation_plot(x, y_relu, 'relu', (-1, 5))\n",
    "activation_plot(x, y_sigmoid, 'sigmoid', (-0.2, 1.2))\n",
    "activation_plot(x, y_tanh, 'tanh', (-1.2, 1.2))\n",
    "activation_plot(x, y_softplus, 'softplus', (-0.2, 6))"
   ]
  },
  {
   "cell_type": "markdown",
   "metadata": {},
   "source": [
    "### Classification"
   ]
  },
  {
   "cell_type": "code",
   "execution_count": 1,
   "metadata": {},
   "outputs": [
    {
     "name": "stdout",
     "output_type": "stream",
     "text": [
      "WARNING:tensorflow:From <ipython-input-1-a62b90ee0d49>:7: read_data_sets (from tensorflow.contrib.learn.python.learn.datasets.mnist) is deprecated and will be removed in a future version.\n",
      "Instructions for updating:\n",
      "Please use alternatives such as official/mnist/dataset.py from tensorflow/models.\n",
      "WARNING:tensorflow:From /home/becktest_3/lib/python3.5/site-packages/tensorflow/contrib/learn/python/learn/datasets/mnist.py:260: maybe_download (from tensorflow.contrib.learn.python.learn.datasets.base) is deprecated and will be removed in a future version.\n",
      "Instructions for updating:\n",
      "Please write your own downloading logic.\n",
      "WARNING:tensorflow:From /home/becktest_3/lib/python3.5/site-packages/tensorflow/contrib/learn/python/learn/datasets/mnist.py:262: extract_images (from tensorflow.contrib.learn.python.learn.datasets.mnist) is deprecated and will be removed in a future version.\n",
      "Instructions for updating:\n",
      "Please use tf.data to implement this functionality.\n",
      "Extracting MNIST_data/train-images-idx3-ubyte.gz\n",
      "WARNING:tensorflow:From /home/becktest_3/lib/python3.5/site-packages/tensorflow/contrib/learn/python/learn/datasets/mnist.py:267: extract_labels (from tensorflow.contrib.learn.python.learn.datasets.mnist) is deprecated and will be removed in a future version.\n",
      "Instructions for updating:\n",
      "Please use tf.data to implement this functionality.\n",
      "Extracting MNIST_data/train-labels-idx1-ubyte.gz\n",
      "WARNING:tensorflow:From /home/becktest_3/lib/python3.5/site-packages/tensorflow/contrib/learn/python/learn/datasets/mnist.py:110: dense_to_one_hot (from tensorflow.contrib.learn.python.learn.datasets.mnist) is deprecated and will be removed in a future version.\n",
      "Instructions for updating:\n",
      "Please use tf.one_hot on tensors.\n",
      "Extracting MNIST_data/t10k-images-idx3-ubyte.gz\n",
      "Extracting MNIST_data/t10k-labels-idx1-ubyte.gz\n",
      "WARNING:tensorflow:From /home/becktest_3/lib/python3.5/site-packages/tensorflow/contrib/learn/python/learn/datasets/mnist.py:290: DataSet.__init__ (from tensorflow.contrib.learn.python.learn.datasets.mnist) is deprecated and will be removed in a future version.\n",
      "Instructions for updating:\n",
      "Please use alternatives such as official/mnist/dataset.py from tensorflow/models.\n"
     ]
    }
   ],
   "source": [
    "# https://morvanzhou.github.io/tutorials/machine-learning/tensorflow/5-01-classifier/\n",
    "%matplotlib inline\n",
    "import numpy as np\n",
    "import matplotlib.pyplot as plt\n",
    "import tensorflow as tf\n",
    "from tensorflow.examples.tutorials.mnist import input_data\n",
    "mnist = input_data.read_data_sets('MNIST_data', one_hot=True)"
   ]
  },
  {
   "cell_type": "code",
   "execution_count": 2,
   "metadata": {},
   "outputs": [
    {
     "data": {
      "image/png": "[encoded data removed]",
      "text/plain": [
       "<Figure size 432x288 with 1 Axes>"
      ]
     },
     "metadata": {
      "needs_background": "light"
     },
     "output_type": "display_data"
    },
    {
     "data": {
      "image/png": "[encoded data removed]",
      "text/plain": [
       "<Figure size 432x288 with 1 Axes>"
      ]
     },
     "metadata": {
      "needs_background": "light"
     },
     "output_type": "display_data"
    }
   ],
   "source": [
    "# https://stackoverflow.com/questions/42353676/display-mnist-image-using-matplotlib?rq=1\n",
    "# images\n",
    "def gen_image(arr):\n",
    "    two_d = (np.reshape(arr, (28, 28)) * 255).astype(np.uint8)\n",
    "    plt.imshow(two_d, interpolation='nearest')\n",
    "    return plt\n",
    "\n",
    "# Get a batch of two random images and show in a pop-up window.\n",
    "batch_xs, batch_ys = mnist.test.next_batch(2)\n",
    "gen_image(batch_xs[0]).show()\n",
    "gen_image(batch_xs[1]).show()"
   ]
  },
  {
   "cell_type": "code",
   "execution_count": 12,
   "metadata": {},
   "outputs": [],
   "source": [
    "# define layer\n",
    "def add_layer(inputs, in_size, out_size, activation_fun = None):\n",
    "    Weights = tf.Variable(tf.random_normal([in_size, out_size]))\n",
    "    biases = tf.Variable(tf.zeros([1, out_size]))\n",
    "    # tf.matmul: 两个矩阵相乘\n",
    "    Wx_plus_b = tf.matmul(inputs, Weights) + biases\n",
    "    if activation_fun is None:\n",
    "        output = Wx_plus_b\n",
    "    else:\n",
    "        output = activation_fun(Wx_plus_b)\n",
    "    return output\n",
    "\n",
    "# accuracy\n",
    "def compute_accuracy(prediction, v_xs, v_ys):\n",
    "    # prediction using validation sets\n",
    "    y_pred = sess.run(prediction, feed_dict={xs: v_xs})\n",
    "    # 取預測結果最大值，計算其位置(label)並與真實y的label做比較\n",
    "    correct_pred = tf.equal(tf.argmax(y_pred, 1), tf.argmax(v_ys, 1))\n",
    "    # compute accuracy\n",
    "    accuracy = tf.reduce_mean(tf.cast(correct_pred, tf.float32))\n",
    "    result = sess.run(accuracy, feed_dict={xs: v_xs, ys: v_ys})\n",
    "    return result\n",
    "\n",
    "# building simple network(輸入+輸出層)\n",
    "xs = tf.placeholder(tf.float32, [None, 784]) # 28x28\n",
    "ys = tf.placeholder(tf.float32, [None, 10])\n",
    "\n",
    "# 輸入784個feature；輸出10個feature，使用softmax\n",
    "prediction = add_layer(xs, 784, 10, activation_fun=tf.nn.softmax)"
   ]
  },
  {
   "cell_type": "code",
   "execution_count": 13,
   "metadata": {},
   "outputs": [],
   "source": [
    "# cross entropy: L=-sum(y_j*log(softmax_j), j=1,2,...,10)\n",
    "cross_entropy = tf.reduce_mean(-tf.reduce_sum(ys * tf.log(prediction),\n",
    "                               reduction_indices=[1])) # loss\n",
    "# using Gradient Descent\n",
    "train_step = tf.train.GradientDescentOptimizer(0.5).minimize(cross_entropy)\n",
    "\n",
    "sess = tf.Session()\n",
    "# 不要使用tf.initialize_all_variables()\n",
    "sess.run(tf.global_variables_initializer())"
   ]
  },
  {
   "cell_type": "code",
   "execution_count": 14,
   "metadata": {},
   "outputs": [
    {
     "name": "stdout",
     "output_type": "stream",
     "text": [
      "0.0899\n",
      "0.6413\n",
      "0.7434\n",
      "0.7855\n",
      "0.8091\n",
      "0.823\n",
      "0.8364\n",
      "0.8406\n",
      "0.8422\n",
      "0.853\n",
      "0.8522\n",
      "0.8603\n",
      "0.8602\n",
      "0.868\n",
      "0.8628\n",
      "0.8712\n",
      "0.8685\n",
      "0.8696\n",
      "0.8773\n",
      "0.8752\n"
     ]
    }
   ],
   "source": [
    "# training\n",
    "for i in range(1000):\n",
    "    batch_xs, batch_ys = mnist.train.next_batch(100)\n",
    "    sess.run(train_step, feed_dict={xs: batch_xs, ys: batch_ys})\n",
    "    if i % 50 == 0:\n",
    "        print(compute_accuracy(prediction, mnist.test.images, mnist.test.labels))"
   ]
  },
  {
   "cell_type": "markdown",
   "metadata": {},
   "source": [
    "### Saving model"
   ]
  },
  {
   "cell_type": "code",
   "execution_count": null,
   "metadata": {},
   "outputs": [],
   "source": [
    "def "
   ]
  },
  {
   "cell_type": "markdown",
   "metadata": {},
   "source": [
    "### Dropout - to prevent overfitting"
   ]
  },
  {
   "cell_type": "code",
   "execution_count": null,
   "metadata": {},
   "outputs": [],
   "source": [
    "# building network with one hidden layer(輸入+隱藏層+輸出層)\n",
    "xs = tf.placeholder(tf.float32, [None, 784]) # 28x28\n",
    "ys = tf.placeholder(tf.float32, [None, 10])\n",
    "\n",
    "l1 = add_layer(xs, 64, 50, 'l1', activation_function=tf.nn.tanh)\n",
    "prediction = add_layer(l1, 50, 10, 'l2', activation_function=tf.nn.softmax)"
   ]
  },
  {
   "cell_type": "code",
   "execution_count": null,
   "metadata": {},
   "outputs": [],
   "source": [
    "## https://morvanzhou.github.io/tutorials/machine-learning/tensorflow/3-3-visualize-result/"
   ]
  }
 ],
 "metadata": {
  "kernelspec": {
   "display_name": "Python 3",
   "language": "python",
   "name": "python3"
  },
  "language_info": {
   "codemirror_mode": {
    "name": "ipython",
    "version": 3
   },
   "file_extension": ".py",
   "mimetype": "text/x-python",
   "name": "python",
   "nbconvert_exporter": "python",
   "pygments_lexer": "ipython3",
   "version": "3.5.2"
  }
 },
 "nbformat": 4,
 "nbformat_minor": 2
}
