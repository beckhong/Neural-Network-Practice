{
 "cells": [
  {
   "cell_type": "code",
   "execution_count": null,
   "metadata": {},
   "outputs": [],
   "source": [
    "# https://github.com/MorvanZhou/tutorials/blob/master/tensorflowTUT/tf16_classification/full_code.py\n",
    "import numpy as np\n",
    "import pandas as pd\n",
    "import tensorflow as tf\n",
    "from sklearn.model_selection import train_test_split\n",
    "from sklearn.preprocessing import LabelBinarizer, MinMaxScaler"
   ]
  },
  {
   "cell_type": "code",
   "execution_count": null,
   "metadata": {},
   "outputs": [],
   "source": [
    "cols = ['huml', 'humw', 'ulnal', 'ulnaw', 'feml', \n",
    "        'femw', 'tibl', 'tibw', 'tarl', 'tarw']\n",
    "\n",
    "bird_data = pd.read_csv(\"datasets/bird.csv\")\n",
    "bird_data = bird_data.fillna(-1)\n",
    "bird_type_class = np.unique(bird_data['type'])\n",
    "bird_summary = bird_data.groupby('type').mean()"
   ]
  },
  {
   "cell_type": "code",
   "execution_count": null,
   "metadata": {},
   "outputs": [],
   "source": [
    "bird_data_no_miss = pd.DataFrame()\n",
    "for _type in bird_type_class:\n",
    "    col_data = bird_data[bird_data['type']==_type]\n",
    "    type_summary = bird_summary[bird_summary.index==_type]\n",
    "    for col in cols:\n",
    "        np.place(col_data[col].values, col_data[col] == -1, \n",
    "                 np.round(type_summary[col].values, 2))\n",
    "    bird_data_no_miss = bird_data_no_miss.append(col_data)\n",
    "bird_data_no_miss = bird_data_no_miss.reset_index(drop=True)\n",
    "\n",
    "bird_x = bird_data_no_miss[cols].values\n",
    "bird_y = bird_data_no_miss['type']\n",
    "encoder = LabelBinarizer()\n",
    "bird_y = encoder.fit_transform(bird_y)\n",
    "\n",
    "train_x, test_x, train_y, test_y = train_test_split(bird_x, bird_y, test_size=0.3)"
   ]
  },
  {
   "cell_type": "code",
   "execution_count": null,
   "metadata": {},
   "outputs": [],
   "source": [
    "# mini-max\n",
    "scaler = MinMaxScaler(feature_range=(-1, 1))\n",
    "scaler.fit(train_x)\n",
    "train_x = scaler.transform(train_x)\n",
    "test_x = scaler.transform(test_x)"
   ]
  },
  {
   "cell_type": "code",
   "execution_count": null,
   "metadata": {},
   "outputs": [],
   "source": [
    "# y = xW + b\n",
    "# y: (#, 6); x: (#, 10); W: (10, 6); b: (1, 6)\n",
    "def add_layer(_input, in_size, out_size, activation_fun=None):\n",
    "    Weights = tf.Variable(tf.random_normal([in_size, out_size]))\n",
    "    biases = tf.Variable(tf.zeros([1, out_size]))\n",
    "    Wx_plus_b = tf.matmul(_input, Weights) + biases\n",
    "    \n",
    "    if activation_fun is None:\n",
    "        output = Wx_plus_b\n",
    "    else:\n",
    "        output = activation_fun(Wx_plus_b)\n",
    "    return output\n",
    "\n",
    "def compute_accuracy(test_x, test_y):\n",
    "    global prediction\n",
    "    predict = sess.run(prediction, feed_dict={tf_x: test_x})\n",
    "    correct = tf.equal(tf.argmax(predict, 1), tf.argmax(test_y, 1))\n",
    "    accuracy = tf.reduce_mean(tf.cast(correct, tf.float32))\n",
    "    \n",
    "    result = sess.run(accuracy, feed_dict={tf_x: test_x, tf_y: test_y})\n",
    "    return result"
   ]
  },
  {
   "cell_type": "code",
   "execution_count": null,
   "metadata": {},
   "outputs": [],
   "source": [
    "tf_x = tf.placeholder(tf.float32, [None, 10])\n",
    "tf_y = tf.placeholder(tf.float32, [None, 6])\n",
    "\n",
    "prediction = add_layer(tf_x, 10, 6, activation_fun=tf.nn.softmax)\n",
    "\n",
    "# cross entropy\n",
    "loss = tf.reduce_mean(-tf.reduce_sum(tf_y*tf.log(prediction),\n",
    "                                     reduction_indices=[1]))\n",
    "# train = tf.train.GradientDescentOptimizer(learning_rate=0.5).minimize(loss)\n",
    "train = tf.train.AdamOptimizer(learning_rate=0.1).minimize(loss)"
   ]
  },
  {
   "cell_type": "code",
   "execution_count": null,
   "metadata": {},
   "outputs": [],
   "source": [
    "init = tf.group(tf.global_variables_initializer(), tf.local_variables_initializer())\n",
    "with tf.Session() as sess:\n",
    "    sess.run(init)\n",
    "    for i in range(2000):\n",
    "        sess.run(train, {tf_x: train_x, tf_y: train_y})\n",
    "        if (i+1) % 100 == 0:\n",
    "            l = sess.run(loss, {tf_x: train_x, tf_y: train_y})\n",
    "            acc = compute_accuracy(test_x, test_y)\n",
    "            print('loss:', l, ',accuracy:', acc)"
   ]
  },
  {
   "cell_type": "code",
   "execution_count": null,
   "metadata": {},
   "outputs": [],
   "source": []
  }
 ],
 "metadata": {
  "kernelspec": {
   "display_name": "Python 3",
   "language": "python",
   "name": "python3"
  },
  "language_info": {
   "codemirror_mode": {
    "name": "ipython",
    "version": 3
   },
   "file_extension": ".py",
   "mimetype": "text/x-python",
   "name": "python",
   "nbconvert_exporter": "python",
   "pygments_lexer": "ipython3",
   "version": "3.5.2"
  }
 },
 "nbformat": 4,
 "nbformat_minor": 2
}
